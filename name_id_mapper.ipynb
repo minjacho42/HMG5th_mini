{
 "cells": [
  {
   "cell_type": "code",
   "execution_count": 36,
   "metadata": {},
   "outputs": [
    {
     "name": "stdout",
     "output_type": "stream",
     "text": [
      "웹툰 페이지 HTML이 naver_webtoon.html 파일로 저장되었습니다.\n",
      "웹툰 정보가 webtoon_info.json 파일로 저장되었습니다.\n"
     ]
    }
   ],
   "source": [
    "from selenium import webdriver\n",
    "from selenium.webdriver.chrome.service import Service\n",
    "from selenium.webdriver.common.by import By\n",
    "from selenium.webdriver.common.keys import Keys\n",
    "import time\n",
    "import json\n",
    "\n",
    "# 웹 드라이버 설정 (Chrome 사용)\n",
    "options = webdriver.ChromeOptions()\n",
    "options.add_argument('--headless')  # 백그라운드 실행\n",
    "options.add_argument('--no-sandbox')\n",
    "options.add_argument('--disable-dev-shm-usage')\n",
    "options.add_argument(\"user-agent=Mozilla/5.0 (Windows NT 10.0; Win64; x64) AppleWebKit/537.36 (KHTML, like Gecko) Chrome/120.0.0.0 Safari/537.36\")\n",
    "\n",
    "driver = webdriver.Chrome(options=options)\n",
    "\n",
    "# 네이버 웹툰 페이지 이동\n",
    "url = \"https://comic.naver.com/webtoon\"\n",
    "driver.get(url)\n",
    "\n",
    "time.sleep(3)  # 페이지 로드 대기\n",
    "\n",
    "# 스크롤 끝까지 내리기\n",
    "scroll_pause_time = 2  # 페이지 로딩 대기 시간\n",
    "last_height = driver.execute_script(\"return document.body.scrollHeight\")\n",
    "\n",
    "while True:\n",
    "    driver.find_element(By.TAG_NAME, \"body\").send_keys(Keys.END)\n",
    "    time.sleep(scroll_pause_time)\n",
    "    new_height = driver.execute_script(\"return document.body.scrollHeight\")\n",
    "    if new_height == last_height:\n",
    "        break\n",
    "    last_height = new_height\n",
    "\n",
    "# HTML 내용을 파일로 저장\n",
    "html_filename = \"naver_webtoon.html\"\n",
    "with open(html_filename, \"w\", encoding=\"utf-8\") as file:\n",
    "    file.write(driver.page_source)\n",
    "\n",
    "driver.quit()\n",
    "\n",
    "print(f\"웹툰 페이지 HTML이 {html_filename} 파일로 저장되었습니다.\")\n",
    "\n",
    "# 저장된 HTML 파일에서 데이터 추출\n",
    "from bs4 import BeautifulSoup\n",
    "\n",
    "with open(html_filename, \"r\", encoding=\"utf-8\") as file:\n",
    "    soup = BeautifulSoup(file, \"html.parser\")\n",
    "\n",
    "# 웹툰 정보를 담을 딕셔너리\n",
    "webtoon_data = {}\n",
    "\n",
    "# 요일별 웹툰 리스트 추출\n",
    "weekday_elements = soup.find_all(class_=\"WeekdayMainView__daily_all_item--DnTAH\")\n",
    "\n",
    "for weekday in weekday_elements:\n",
    "    webtoons = weekday.find_all(class_=\"DailyListItem__item--LP6_T\")\n",
    "    for webtoon in webtoons:\n",
    "        try:\n",
    "            image_element = webtoon.find(\"img\", class_=\"Poster__image--d9XTI\")\n",
    "            if image_element:\n",
    "                webtoon_name = image_element[\"alt\"]\n",
    "                img_src = image_element[\"src\"]\n",
    "                webtoon_id = img_src.split(\"/\")[-3]  # URL에서 ID 추출\n",
    "                webtoon_data[webtoon_name] = {\"id\": int(webtoon_id)}\n",
    "        except Exception as e:\n",
    "            print(f\"Error processing webtoon: {e}\")\n",
    "\n",
    "# JSON 파일로 저장\n",
    "output_filename = \"webtoon_info.json\"\n",
    "with open(output_filename, \"w\", encoding=\"utf-8\") as json_file:\n",
    "    json.dump(webtoon_data, json_file, ensure_ascii=False, indent=4)\n",
    "\n",
    "print(f\"웹툰 정보가 {output_filename} 파일로 저장되었습니다.\")"
   ]
  },
  {
   "cell_type": "code",
   "execution_count": null,
   "metadata": {},
   "outputs": [],
   "source": []
  }
 ],
 "metadata": {
  "kernelspec": {
   "display_name": "base",
   "language": "python",
   "name": "python3"
  },
  "language_info": {
   "codemirror_mode": {
    "name": "ipython",
    "version": 3
   },
   "file_extension": ".py",
   "mimetype": "text/x-python",
   "name": "python",
   "nbconvert_exporter": "python",
   "pygments_lexer": "ipython3",
   "version": "3.12.2"
  }
 },
 "nbformat": 4,
 "nbformat_minor": 2
}
